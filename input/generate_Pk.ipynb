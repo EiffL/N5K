{
 "cells": [
  {
   "cell_type": "code",
   "execution_count": 1,
   "metadata": {},
   "outputs": [],
   "source": [
    "import pyccl as ccl\n",
    "import numpy as np\n",
    "import matplotlib.pyplot as plt"
   ]
  },
  {
   "cell_type": "markdown",
   "metadata": {},
   "source": [
    "This notebook generates the matter power spectrum to be provided to participants as part of the N5K challenge."
   ]
  },
  {
   "cell_type": "code",
   "execution_count": 2,
   "metadata": {},
   "outputs": [],
   "source": [
    "#First set the fiducial cosmological parameters (use the same ones as in the SRD)\n",
    "om_m=0.3156\n",
    "w0=-1.0\n",
    "h0=0.6727\n",
    "A_s=2.12107*10**(-9) \n",
    "om_b=0.0492\n",
    "n_s=0.9645\n",
    "\n",
    "cosmo = ccl.Cosmology(Omega_c = om_m-om_b, Omega_b = om_b, n_s=n_s, A_s=A_s, h=h0, w0=w0)"
   ]
  },
  {
   "cell_type": "code",
   "execution_count": 3,
   "metadata": {},
   "outputs": [],
   "source": [
    "z = np.linspace(0,3.5,500)\n",
    "k = np.logspace(-4,2,2000)"
   ]
  },
  {
   "cell_type": "code",
   "execution_count": 4,
   "metadata": {},
   "outputs": [],
   "source": [
    "# Get the nonlinear 2D matter power spectrum\n",
    "pk = np.zeros((len(k), len(z)))\n",
    "for zi in range(0, len(z)):\n",
    "    pk[:,zi] = ccl.nonlin_matter_power(cosmo, k, 1./(1.+z[zi]))\n",
    "    "
   ]
  },
  {
   "cell_type": "code",
   "execution_count": 5,
   "metadata": {},
   "outputs": [],
   "source": [
    "# Now save to file\n",
    "np.savez('./pk.npz', k=k, z=z, pk=pk)"
   ]
  },
  {
   "cell_type": "code",
   "execution_count": null,
   "metadata": {},
   "outputs": [],
   "source": []
  }
 ],
 "metadata": {
  "kernelspec": {
   "display_name": "Python 3",
   "language": "python",
   "name": "python3"
  },
  "language_info": {
   "codemirror_mode": {
    "name": "ipython",
    "version": 3
   },
   "file_extension": ".py",
   "mimetype": "text/x-python",
   "name": "python",
   "nbconvert_exporter": "python",
   "pygments_lexer": "ipython3",
   "version": "3.8.5"
  }
 },
 "nbformat": 4,
 "nbformat_minor": 4
}
