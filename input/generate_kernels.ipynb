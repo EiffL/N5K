{
 "cells": [
  {
   "cell_type": "code",
   "execution_count": null,
   "metadata": {},
   "outputs": [],
   "source": [
    "import pyccl as ccl\n",
    "import numpy as np\n",
    "import matplotlib.pyplot as plt"
   ]
  },
  {
   "cell_type": "markdown",
   "metadata": {},
   "source": [
    "This notebook generates the kernels which are to be provided to participants as part of the N5K challenge."
   ]
  },
  {
   "cell_type": "code",
   "execution_count": null,
   "metadata": {},
   "outputs": [],
   "source": [
    "#First set the fiducial cosmological parameters (use the same ones as in the SRD)\n",
    "om_m=0.3156\n",
    "w0=-1.0\n",
    "h0=0.6727\n",
    "A_s=2.12107*10**(-9) \n",
    "om_b=0.0492\n",
    "n_s=0.9645\n",
    "\n",
    "cosmo = ccl.Cosmology(Omega_c = om_m-om_b, Omega_b = om_b, n_s=n_s, A_s=A_s, h=h0, w0=w0)"
   ]
  },
  {
   "cell_type": "code",
   "execution_count": null,
   "metadata": {},
   "outputs": [],
   "source": [
    "#Per-bin galaxy bias\n",
    "b = [1.376695, 1.451179, 1.528404, 1.607983, 1.689579, 1.772899, 1.857700, 1.943754, 2.030887, 2.118943]\n",
    "\n",
    "#Amplitude of NLA model (accounting for f_red already)\n",
    "A_IA = 0.15\n",
    "\n",
    "#pz parameters\n",
    "zb_cl = 0.0\n",
    "sigz_cl = 0.03\n",
    "zb_sh = 0.0\n",
    "sigz_sh = 0.05"
   ]
  },
  {
   "cell_type": "code",
   "execution_count": null,
   "metadata": {},
   "outputs": [],
   "source": [
    "#Import redshift distrbutions\n",
    "#These are the SRD Y10 redshift distrbutions binned as described in that document,\n",
    "#convolved with the assumed fiducial photo-z model given there also.\n",
    "\n",
    "\n",
    "dNdz_sh = np.loadtxt('./dNdz_srcs_LSSTSRD_zb0_sigz0.05.dat', unpack=True)\n",
    "z_sh = dNdz_sh[0, :]\n",
    "dNdz_sh = dNdz_sh[1:, :]\n",
    "dNdz_cl = np.loadtxt('./dNdz_clust_LSSTSRD_zb0_sigz0.03.dat', unpack=True)\n",
    "z_cl = dNdz_cl[0, :]\n",
    "dNdz_cl = dNdz_cl[1:, :]"
   ]
  },
  {
   "cell_type": "code",
   "execution_count": null,
   "metadata": {},
   "outputs": [],
   "source": [
    "# Plot these just to be sure they look okay:\n",
    "\n",
    "plt.figure()\n",
    "for n in dNdz_sh:\n",
    "    plt.plot(z_sh, n)\n",
    "plt.figure()\n",
    "for n in dNdz_cl:\n",
    "    plt.plot(z_sh, n)\n",
    "plt.show()\n"
   ]
  },
  {
   "cell_type": "code",
   "execution_count": null,
   "metadata": {},
   "outputs": [],
   "source": [
    "# Now that we have the z values for the clustering bins, set the galaxy bias vectors:\n",
    "\n",
    "b_vecs = [b[i]*np.ones(len(z_cl)) for i in range(0,10)]\n",
    "\n",
    "# And the IA amplitude:\n",
    "\n",
    "A_IA_vecs = [A_IA*np.ones(len(z_sh)) for i in range(0,5)]"
   ]
  },
  {
   "cell_type": "code",
   "execution_count": null,
   "metadata": {},
   "outputs": [],
   "source": [
    "# Now define the tracers\n",
    "\n",
    "# Lenses\n",
    "Cl_tracers = [ccl.NumberCountsTracer(cosmo,False, (z_cl, n),\n",
    "                                     (z_cl, b_vecs[i]))\n",
    "              for i, n in enumerate(dNdz_cl)]\n",
    "\n",
    "# Sources\n",
    "Sh_tracers = [ccl.WeakLensingTracer(cosmo, (z_sh, n), True,\n",
    "                                    (z_sh, A_IA_vecs[i]))\n",
    "              for i, n in enumerate(dNdz_sh)]"
   ]
  },
  {
   "cell_type": "code",
   "execution_count": null,
   "metadata": {},
   "outputs": [],
   "source": [
    "# Extract the kernels:\n",
    "\n",
    "# Input here is comoving radial distance:\n",
    "chi_sh = ccl.comoving_radial_distance(cosmo, 1./(1.+z_sh))\n",
    "chi_cl = ccl.comoving_radial_distance(cosmo, 1./(1.+z_cl))\n",
    "\n",
    "kernels_cl = np.array([t.get_kernel(chi_cl)[0] for t in Cl_tracers])\n",
    "kernels_sh = np.array([t.get_kernel(chi_sh)[0] for t in Sh_tracers])\n",
    "kernels_ia = np.array([t.get_kernel(chi_sh)[1] for t in Sh_tracers])"
   ]
  },
  {
   "cell_type": "code",
   "execution_count": null,
   "metadata": {},
   "outputs": [],
   "source": [
    "# Plot to make sure it looks okay:\n",
    "plt.figure()\n",
    "for k in kernels_cl:\n",
    "    plt.plot(chi_cl, k)\n",
    "plt.figure()\n",
    "for k in kernels_sh:\n",
    "    plt.plot(chi_sh, k)\n",
    "plt.figure()\n",
    "for k in kernels_ia:\n",
    "    plt.plot(chi_sh, k)\n",
    "plt.show()"
   ]
  },
  {
   "cell_type": "code",
   "execution_count": null,
   "metadata": {},
   "outputs": [],
   "source": [
    "# Now save to files\n",
    "\n",
    "kernels_cl_arr = np.column_stack((z_cl, chi_cl, kernels_cl.T))\n",
    "kernels_sh_arr = np.column_stack((z_sh, chi_sh, kernels_sh.T))\n",
    "kernels_ia_arr = np.column_stack((z_sh, chi_sh, kernels_ia.T))\n",
    "\n",
    "header_cl='z,  chi (Mpc),  kernels 1-10'\n",
    "header_src='z,  chi (Mpc),  kernels 1-5'\n",
    "\n",
    "np.savetxt('./NumberCountKernels.dat',\n",
    "           np.column_stack((z_cl, chi_cl, kernels_cl.T)),\n",
    "           header = 'z,  chi (Mpc),  kernels 1-%d' % len(kernels_cl))\n",
    "np.savetxt('./CosmicShearKernels.dat',\n",
    "           np.column_stack((z_sh, chi_sh, kernels_sh.T)),\n",
    "           header = 'z,  chi (Mpc),  kernels 1-%d' % len(kernels_sh))\n",
    "np.savetxt('./IntrinsicAlignmentKernels.dat',\n",
    "           np.column_stack((z_sh, chi_sh, kernels_ia.T)),\n",
    "           header = 'z,  chi (Mpc),  kernels 1-%d' % len(kernels_ia))"
   ]
  },
  {
   "cell_type": "code",
   "execution_count": null,
   "metadata": {},
   "outputs": [],
   "source": []
  }
 ],
 "metadata": {
  "kernelspec": {
   "display_name": "Python 3",
   "language": "python",
   "name": "python3"
  },
  "language_info": {
   "codemirror_mode": {
    "name": "ipython",
    "version": 3
   },
   "file_extension": ".py",
   "mimetype": "text/x-python",
   "name": "python",
   "nbconvert_exporter": "python",
   "pygments_lexer": "ipython3",
   "version": "3.8.5"
  }
 },
 "nbformat": 4,
 "nbformat_minor": 4
}
